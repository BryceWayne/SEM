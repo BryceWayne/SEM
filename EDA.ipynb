{
 "cells": [
  {
   "cell_type": "code",
   "execution_count": 1,
   "metadata": {},
   "outputs": [],
   "source": [
    "import pickle\n",
    "import numpy as np\n",
    "import pandas as pd"
   ]
  },
  {
   "cell_type": "code",
   "execution_count": 58,
   "metadata": {},
   "outputs": [],
   "source": [
    "def load_obj():\n",
    "    with open('./losses.pkl', 'rb') as f:\n",
    "        data = pickle.load(f)\n",
    "    return data\n",
    "\n",
    "data = load_obj()"
   ]
  },
  {
   "cell_type": "code",
   "execution_count": 59,
   "metadata": {},
   "outputs": [
    {
     "name": "stdout",
     "output_type": "stream",
     "text": [
      "Standard\\500N31\\20200704T115102\t\tStandard\\500N31\\20200704T120619\t\tStandard\\10000N31\\20200704T121209\t\tStandard\\10000N31\\20200704T124332\t\tBurgers\\10000N31\\20200704T151344\t\tBurgers\\10000N31\\20200704T155342\t\tBurgers\\10000N31\\20200704T185742\t\tBurgers\\10000N31\\20200704T234530\t\tBurgers\\500N31\\20200704T234934\t\tBurgers\\500N63\\20200705T010052\t\tBurgers\\500N63\\20200705T122621\t\tBurgers\\500N63\\20200705T123700\t\tBurgers\\500N63\\20200705T124447\t\tBurgers\\500N31\\20200705T124756\t\tBurgers\\500N63\\20200705T130313\t\tBurgers\\500N63\\20200705T132153\t\tBurgers\\500N63\\20200705T133408\t\tBurgers\\500N63\\20200705T135035\t\tStandard\\500N63\\20200705T141346\t\tBurgers\\500N63\\20200705T142609\t\tBurgers\\500N63\\20200705T144238\t\tBurgers\\500N63\\20200705T145223\t\tBurgers\\500N63\\20200705T150815\t\tBurgers\\500N63\\20200705T152023\t\tBurgers\\500N63\\20200705T153218\t\tBurgers\\500N63\\20200705T155738\t\tBurgers\\100N63\\20200705T175709\t\tBurgers\\500N63\\20200705T223648\t\tBurgers\\750N63\\20200705T223738\t\tBurgers\\750N63\\20200705T224103\t\tBurgers\\750N63\\20200705T224253\t\tBurgers\\750N63\\20200705T224458\t\tHelmholtz\\50N63\\20200706T115526\t\tHelmholtz\\50N63\\20200706T115634\t\tHelmholtz\\50N63\\20200706T120355\t\tHelmholtz\\500N63\\20200706T131600\t\ttraining\\Helmholtz\\500N63\\20200706T132634\t\ttraining\\Helmholtz\\500N63\\20200706T133503\t\ttraining\\Helmholtz\\500N63\\20200706T144256\t\ttraining\\Helmholtz\\500N63\\20200706T144501\t\ttraining\\Burgers\\50N63\\20200706T153833\t\ttraining\\Burgers\\500N63\\20200706T160410\t\ttraining\\Standard\\50N63\\20200706T171338\t\ttraining\\Standard\\50N63\\20200706T172448\t\ttraining\\Standard\\50N63\\20200706T173028\t\ttraining\\Standard\\50N63\\20200706T180604\t\ttraining\\Standard\\50N63\\20200706T180742\t\ttraining\\Standard\\50N63\\20200706T180900\t\ttraining\\Standard\\50N63\\20200706T181124\t\ttraining\\Standard\\50N63\\20200706T181357\t\ttraining\\Standard\\1000N63\\20200706T181501\t\ttraining\\Burgers\\1000N63\\20200706T181707\t\ttraining\\Burgers\\1000N63\\20200706T185842\t\ttraining\\Burgers\\1000N63\\20200706T193450\t\ttraining\\Burgers\\1000N63\\20200706T204818\t\ttraining\\Helmholtz\\1000N63\\20200706T212157\t\ttraining\\Helmholtz\\50N63\\20200706T215507\t\ttraining\\Helmholtz\\1000N63\\20200706T220517\t\ttraining\\Helmholtz\\1000N63\\20200706T222153\t\ttraining\\Helmholtz\\1000N63\\20200706T232852\t\ttraining\\Helmholtz\\1000N63\\20200707T115510\n"
     ]
    }
   ],
   "source": [
    "print(*data.keys(), sep='\\t\\t')"
   ]
  },
  {
   "cell_type": "code",
   "execution_count": 67,
   "metadata": {},
   "outputs": [],
   "source": [
    "keys = list(data.keys())\n",
    "test = data[keys[-1]]\n",
    "sub_test = {}\n",
    "for k, v in test.items():\n",
    "    if k != 'losses':\n",
    "        sub_test[k] = [v]"
   ]
  },
  {
   "cell_type": "code",
   "execution_count": 68,
   "metadata": {},
   "outputs": [],
   "source": [
    "df = pd.DataFrame.from_dict(test['losses'], orient='columns')"
   ]
  },
  {
   "cell_type": "code",
   "execution_count": 69,
   "metadata": {},
   "outputs": [
    {
     "data": {
      "text/html": [
       "<div>\n",
       "<style scoped>\n",
       "    .dataframe tbody tr th:only-of-type {\n",
       "        vertical-align: middle;\n",
       "    }\n",
       "\n",
       "    .dataframe tbody tr th {\n",
       "        vertical-align: top;\n",
       "    }\n",
       "\n",
       "    .dataframe thead th {\n",
       "        text-align: right;\n",
       "    }\n",
       "</style>\n",
       "<table border=\"1\" class=\"dataframe\">\n",
       "  <thead>\n",
       "    <tr style=\"text-align: right;\">\n",
       "      <th></th>\n",
       "      <th>loss_a</th>\n",
       "      <th>loss_u</th>\n",
       "      <th>loss_f</th>\n",
       "      <th>loss_wf</th>\n",
       "      <th>loss_train</th>\n",
       "      <th>loss_validate</th>\n",
       "    </tr>\n",
       "  </thead>\n",
       "  <tbody>\n",
       "    <tr>\n",
       "      <th>0</th>\n",
       "      <td>14.749941</td>\n",
       "      <td>53.504562</td>\n",
       "      <td>0.0</td>\n",
       "      <td>0.0</td>\n",
       "      <td>34.127250</td>\n",
       "      <td>29.328895</td>\n",
       "    </tr>\n",
       "    <tr>\n",
       "      <th>1</th>\n",
       "      <td>13.946695</td>\n",
       "      <td>48.623453</td>\n",
       "      <td>0.0</td>\n",
       "      <td>0.0</td>\n",
       "      <td>31.285074</td>\n",
       "      <td>11.291856</td>\n",
       "    </tr>\n",
       "    <tr>\n",
       "      <th>2</th>\n",
       "      <td>5.886236</td>\n",
       "      <td>17.931324</td>\n",
       "      <td>0.0</td>\n",
       "      <td>0.0</td>\n",
       "      <td>11.908780</td>\n",
       "      <td>15.359665</td>\n",
       "    </tr>\n",
       "    <tr>\n",
       "      <th>3</th>\n",
       "      <td>3.155968</td>\n",
       "      <td>30.588014</td>\n",
       "      <td>0.0</td>\n",
       "      <td>0.0</td>\n",
       "      <td>16.871990</td>\n",
       "      <td>5.897635</td>\n",
       "    </tr>\n",
       "    <tr>\n",
       "      <th>4</th>\n",
       "      <td>3.029735</td>\n",
       "      <td>9.118115</td>\n",
       "      <td>0.0</td>\n",
       "      <td>0.0</td>\n",
       "      <td>6.073925</td>\n",
       "      <td>5.124569</td>\n",
       "    </tr>\n",
       "  </tbody>\n",
       "</table>\n",
       "</div>"
      ],
      "text/plain": [
       "      loss_a     loss_u  loss_f  loss_wf  loss_train  loss_validate\n",
       "0  14.749941  53.504562     0.0      0.0   34.127250      29.328895\n",
       "1  13.946695  48.623453     0.0      0.0   31.285074      11.291856\n",
       "2   5.886236  17.931324     0.0      0.0   11.908780      15.359665\n",
       "3   3.155968  30.588014     0.0      0.0   16.871990       5.897635\n",
       "4   3.029735   9.118115     0.0      0.0    6.073925       5.124569"
      ]
     },
     "execution_count": 69,
     "metadata": {},
     "output_type": "execute_result"
    }
   ],
   "source": [
    "df.head()"
   ]
  },
  {
   "cell_type": "code",
   "execution_count": 70,
   "metadata": {},
   "outputs": [
    {
     "data": {
      "text/plain": [
       "<matplotlib.axes._subplots.AxesSubplot at 0x20440febec8>"
      ]
     },
     "execution_count": 70,
     "metadata": {},
     "output_type": "execute_result"
    },
    {
     "data": {
      "image/png": "[encoded data removed]",
      "text/plain": [
       "<Figure size 720x432 with 1 Axes>"
      ]
     },
     "metadata": {
      "needs_background": "light"
     },
     "output_type": "display_data"
    }
   ],
   "source": [
    "df.plot(logy=True, figsize=(10,6))"
   ]
  },
  {
   "cell_type": "code",
   "execution_count": 71,
   "metadata": {},
   "outputs": [],
   "source": [
    "df2 = pd.DataFrame.from_dict(sub_test, orient='columns')"
   ]
  },
  {
   "cell_type": "code",
   "execution_count": 72,
   "metadata": {},
   "outputs": [
    {
     "data": {
      "text/html": [
       "<div>\n",
       "<style scoped>\n",
       "    .dataframe tbody tr th:only-of-type {\n",
       "        vertical-align: middle;\n",
       "    }\n",
       "\n",
       "    .dataframe tbody tr th {\n",
       "        vertical-align: top;\n",
       "    }\n",
       "\n",
       "    .dataframe thead th {\n",
       "        text-align: right;\n",
       "    }\n",
       "</style>\n",
       "<table border=\"1\" class=\"dataframe\">\n",
       "  <thead>\n",
       "    <tr style=\"text-align: right;\">\n",
       "      <th></th>\n",
       "      <th>EQUATION</th>\n",
       "      <th>MODEL</th>\n",
       "      <th>KERNEL_SIZE</th>\n",
       "      <th>BLOCKS</th>\n",
       "      <th>EPSILON</th>\n",
       "      <th>LOSS_TYPE</th>\n",
       "    </tr>\n",
       "  </thead>\n",
       "  <tbody>\n",
       "    <tr>\n",
       "      <th>0</th>\n",
       "      <td>Helmholtz</td>\n",
       "      <td>&lt;class 'net.network.NetA'&gt;</td>\n",
       "      <td>5</td>\n",
       "      <td>2</td>\n",
       "      <td>0</td>\n",
       "      <td>MSE</td>\n",
       "    </tr>\n",
       "  </tbody>\n",
       "</table>\n",
       "</div>"
      ],
      "text/plain": [
       "    EQUATION                       MODEL  KERNEL_SIZE  BLOCKS  EPSILON  \\\n",
       "0  Helmholtz  <class 'net.network.NetA'>            5       2        0   \n",
       "\n",
       "  LOSS_TYPE  \n",
       "0       MSE  "
      ]
     },
     "execution_count": 72,
     "metadata": {},
     "output_type": "execute_result"
    }
   ],
   "source": [
    "df2"
   ]
  },
  {
   "cell_type": "code",
   "execution_count": null,
   "metadata": {},
   "outputs": [],
   "source": []
  },
  {
   "cell_type": "code",
   "execution_count": null,
   "metadata": {},
   "outputs": [],
   "source": []
  },
  {
   "cell_type": "code",
   "execution_count": null,
   "metadata": {},
   "outputs": [],
   "source": []
  }
 ],
 "metadata": {
  "kernelspec": {
   "display_name": "Python 3",
   "language": "python",
   "name": "python3"
  },
  "language_info": {
   "codemirror_mode": {
    "name": "ipython",
    "version": 3
   },
   "file_extension": ".py",
   "mimetype": "text/x-python",
   "name": "python",
   "nbconvert_exporter": "python",
   "pygments_lexer": "ipython3",
   "version": "3.7.6"
  }
 },
 "nbformat": 4,
 "nbformat_minor": 4
}
